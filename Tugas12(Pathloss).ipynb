{
  "nbformat": 4,
  "nbformat_minor": 0,
  "metadata": {
    "colab": {
      "name": "Untitled6.ipynb",
      "provenance": [],
      "authorship_tag": "ABX9TyOranjJQTv8QrY1awEkrNvu",
      "include_colab_link": true
    },
    "kernelspec": {
      "name": "python3",
      "display_name": "Python 3"
    }
  },
  "cells": [
    {
      "cell_type": "markdown",
      "metadata": {
        "id": "view-in-github",
        "colab_type": "text"
      },
      "source": [
        "<a href=\"https://colab.research.google.com/github/titarianti/pemrograman_python/blob/main/Tugas12(Pathloss).ipynb\" target=\"_parent\"><img src=\"https://colab.research.google.com/assets/colab-badge.svg\" alt=\"Open In Colab\"/></a>"
      ]
    },
    {
      "cell_type": "code",
      "metadata": {
        "id": "qQv8Q9A6rhps"
      },
      "source": [
        "#TITA RIANTIARNI\r\n",
        "#1101208448\r\n",
        "#TTX-44-01"
      ],
      "execution_count": null,
      "outputs": []
    },
    {
      "cell_type": "code",
      "metadata": {
        "id": "p7kicKkSrkBG"
      },
      "source": [
        "import numpy as np"
      ],
      "execution_count": 17,
      "outputs": []
    },
    {
      "cell_type": "code",
      "metadata": {
        "id": "6m6vgIV_up4p"
      },
      "source": [
        "#Tipe Area\r\n",
        "def area (f):\r\n",
        "  urban = 0\r\n",
        "  suburban = -2*np.log10(f/28)*np.log10(f/28)-5.4\r\n",
        "  open = (-4.78*np.log10(f)*np.log10(f))-(18.33*np.log10(f))-40.99\r\n",
        "  return urban, suburban,open"
      ],
      "execution_count": 18,
      "outputs": []
    },
    {
      "cell_type": "code",
      "metadata": {
        "colab": {
          "base_uri": "https://localhost:8080/"
        },
        "id": "cF5mcWPouqst",
        "outputId": "be0d0871-6dd0-4c02-9c6a-1edf086ccc3e"
      },
      "source": [
        "urban,suburban,open = area (1750)\r\n",
        "print (\"cm urban =\",urban)\r\n",
        "print (\"cm suburban =\",suburban)\r\n",
        "print (\"cm open =\",open)"
      ],
      "execution_count": 19,
      "outputs": [
        {
          "output_type": "stream",
          "text": [
            "cm urban = 0\n",
            "cm suburban = -11.850370073391513\n",
            "cm open = -150.70756128580487\n"
          ],
          "name": "stdout"
        }
      ]
    },
    {
      "cell_type": "code",
      "metadata": {
        "colab": {
          "base_uri": "https://localhost:8080/"
        },
        "id": "pkYoXMW6rnBS",
        "outputId": "d23bc431-0df2-4823-b5d2-c447b08c45dc"
      },
      "source": [
        "#Urban\r\n",
        "Lp = 46.3 + (33.9*np.log10(1750)) - (13.83*np.log10(70)) - ((((1.1*np.log10(1750))-0.7)*27) - ((1.56*np.log10(1750))-0.8)) + ((44.9-(6.55*np.log10(70)))*np.log10(7)) + 0\r\n",
        "print(Lp)"
      ],
      "execution_count": 20,
      "outputs": [
        {
          "output_type": "stream",
          "text": [
            "85.29375403468723\n"
          ],
          "name": "stdout"
        }
      ]
    },
    {
      "cell_type": "code",
      "metadata": {
        "colab": {
          "base_uri": "https://localhost:8080/"
        },
        "id": "8XQRognGrzDK",
        "outputId": "89501d36-17ae-4cb0-fc09-0c671ea2839c"
      },
      "source": [
        "#Suburban\r\n",
        "Lp = 46.3 + (33.9*np.log10(1750)) - (13.83*np.log10(70)) - ((((1.1*np.log10(1750))-0.7)*27) - ((1.56*np.log10(1750))-0.8)) + ((44.9-(6.55*np.log10(70)))*np.log10(7))-11.850370073391513\r\n",
        "print(Lp)"
      ],
      "execution_count": 21,
      "outputs": [
        {
          "output_type": "stream",
          "text": [
            "73.44338396129571\n"
          ],
          "name": "stdout"
        }
      ]
    },
    {
      "cell_type": "code",
      "metadata": {
        "colab": {
          "base_uri": "https://localhost:8080/"
        },
        "id": "FIlY8gp1uzGa",
        "outputId": "e2738fe4-6ccb-48a0-ed66-9541ddf41295"
      },
      "source": [
        "#Open\r\n",
        "Lp = 46.3 + (33.9*np.log10(1750)) - (13.83*np.log10(70)) - ((((1.1*np.log10(1750))-0.7)*27) - ((1.56*np.log10(1750))-0.8)) + ((44.9-(6.55*np.log10(70)))*np.log10(7))-150.70756128580487\r\n",
        "print(Lp)"
      ],
      "execution_count": 22,
      "outputs": [
        {
          "output_type": "stream",
          "text": [
            "-65.41380725111765\n"
          ],
          "name": "stdout"
        }
      ]
    },
    {
      "cell_type": "code",
      "metadata": {
        "id": "IzC37MVZrpOA"
      },
      "source": [
        "def ploss (d, f, cm, ht, hr):\r\n",
        "  Lp= 46.3 + (33.9*np.log10(f)) - (13.83*np.log10(ht)) - ((((1.1*np.log10(f)) - 0.7) * hr) - ((1.56*np.log10(f)) - 0.8)) + ((44.9 - (6.55*np.log10(ht)))*np.log10(d)) + cm\r\n",
        "  return Lp"
      ],
      "execution_count": 23,
      "outputs": []
    },
    {
      "cell_type": "code",
      "metadata": {
        "colab": {
          "base_uri": "https://localhost:8080/"
        },
        "id": "UapKF68hrrTp",
        "outputId": "18aab39c-852b-4149-8dda-e4f086c78d03"
      },
      "source": [
        "#Urban\r\n",
        "pathloss = ploss(7, 1750, 0, 70, 27)\r\n",
        "print(\"Pathloss dalam dB =\",pathloss,\"dB\")"
      ],
      "execution_count": 24,
      "outputs": [
        {
          "output_type": "stream",
          "text": [
            "Pathloss dalam dB = 85.29375403468723 dB\n"
          ],
          "name": "stdout"
        }
      ]
    },
    {
      "cell_type": "code",
      "metadata": {
        "colab": {
          "base_uri": "https://localhost:8080/"
        },
        "id": "0AujHkj1vU--",
        "outputId": "6317fc2a-c8aa-4038-9b22-c87316bc5c04"
      },
      "source": [
        "#Suburban\r\n",
        "pathloss = ploss(7, 1750, -11.850370073391513, 70, 27)\r\n",
        "print(\"Pathloss dalam dB =\",pathloss,\"dB\")"
      ],
      "execution_count": 25,
      "outputs": [
        {
          "output_type": "stream",
          "text": [
            "Pathloss dalam dB = 73.44338396129571 dB\n"
          ],
          "name": "stdout"
        }
      ]
    },
    {
      "cell_type": "code",
      "metadata": {
        "colab": {
          "base_uri": "https://localhost:8080/"
        },
        "id": "PQW0sPC6vgXQ",
        "outputId": "63306035-73eb-4ae3-c2e7-12de63969473"
      },
      "source": [
        "#Open\r\n",
        "pathloss = ploss(7, 1750, -150.70756128580487, 70, 27)\r\n",
        "print(\"Pathloss dalam dB =\",pathloss,\"dB\")"
      ],
      "execution_count": 26,
      "outputs": [
        {
          "output_type": "stream",
          "text": [
            "Pathloss dalam dB = -65.41380725111765 dB\n"
          ],
          "name": "stdout"
        }
      ]
    }
  ]
}